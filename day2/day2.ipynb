{
 "cells": [
  {
   "cell_type": "code",
   "execution_count": 1,
   "metadata": {},
   "outputs": [
    {
     "ename": "",
     "evalue": "",
     "output_type": "error",
     "traceback": [
      "\u001b[1;31mCanceled future for execute_request message before replies were done"
     ]
    },
    {
     "ename": "",
     "evalue": "",
     "output_type": "error",
     "traceback": [
      "\u001b[1;31mThe Kernel crashed while executing code in the the current cell or a previous cell. Please review the code in the cell(s) to identify a possible cause of the failure. Click <a href='https://aka.ms/vscodeJupyterKernelCrash'>here</a> for more info. View Jupyter <a href='command:jupyter.viewOutput'>log</a> for further details."
     ]
    }
   ],
   "source": [
    "import pandas as pd\n",
    "\n",
    "df = pd.read_csv('day2.txt', sep=' ', names=[\"Their Choice\", \"My Choice\"])\n",
    "\n",
    "df.head()"
   ]
  },
  {
   "cell_type": "code",
   "execution_count": null,
   "metadata": {},
   "outputs": [],
   "source": [
    "MyScoreDict = {'X': 1, 'Y':2, 'Z':3}\n",
    "Translation = {'X': 'A', 'Y':'B', 'Z':'C'}\n",
    "\n",
    "df['My Choice Translated'] = df['My Choice'].map(Translation)\n",
    "df['My Choice Score'] = df['My Choice'].map(Translation)"
   ]
  },
  {
   "cell_type": "code",
   "execution_count": null,
   "metadata": {},
   "outputs": [],
   "source": [
    "WinnerDict = {'A':'C', 'B':'A', 'C':'B'}\n",
    "\n",
    "new_df = df\n",
    "proba=[]\n",
    "\n",
    "for index, row in new_df.iterrows():\n",
    "    score=0\n",
    "    if (row['Their Choice'] == row['My Choice Translated']):\n",
    "        score = 3\n",
    "    elif (WinnerDict[row['My Choice Translated']] == row['Their Choice']):\n",
    "        score = 6\n",
    "    \n",
    "new_df['Comp Score'] = proba"
   ]
  },
  {
   "cell_type": "code",
   "execution_count": null,
   "metadata": {},
   "outputs": [],
   "source": [
    "new_df['Total'] = new_df['My Choice Score'] + new_df['Comp Score']\n",
    "# answer to part 1\n",
    "new_df['Total'].sum()"
   ]
  },
  {
   "cell_type": "code",
   "execution_count": null,
   "metadata": {},
   "outputs": [],
   "source": [
    "newScoring = {'X': 0, 'Y': 3, 'Z': 6}\n",
    "\n",
    "winningScore = {'A':'B', 'B':'C', 'C':'A'}\n",
    "losingScore = {'A':'C', 'B':'A', 'C':'B'}\n",
    "\n",
    "newnew_df = new_df\n",
    "newnew_df['New Comp Score'] = newnew_df['My Choice'].map(newScoring)\n",
    "\n",
    "proba=[]\n",
    "\n",
    "for index, row in newnew_df.iterrows():\n",
    "    score=''\n",
    "    if (newScoring[row['My Choice']] == 0):\n",
    "        score = losingScore[row['Their Choice']]\n",
    "    elif (newScoring[row['My Choice']] == 3):\n",
    "        score = row['Their Choice']\n",
    "    else:\n",
    "        score = winningScore[row['Their Choice']]\n",
    "    \n",
    "    proba.append(score)\n",
    "\n",
    "MyNewScoreDict = {'A':1, 'B':2, 'C':3}\n",
    "\n",
    "newnew_df['New Choice'] = proba\n",
    "newnew_df['New Choice Score'] = newnew_df['New Choice'].map(MyNewScoreDict)\n",
    "newnew_df['New Total'] = newnew_df['New Choice Score'] + newnew_df['New Comp Score']\n",
    "\n",
    "# answer to part 2\n",
    "newnew_df['New Total'].sum()\n"
   ]
  },
  {
   "cell_type": "markdown",
   "metadata": {},
   "source": []
  }
 ],
 "metadata": {
  "interpreter": {
   "hash": "ab4156438d0fe89ad4c68abbecbc49464462ec4aa3453f35a0688097a47837de"
  },
  "kernelspec": {
   "display_name": "Python 3.7.2 ('base')",
   "language": "python",
   "name": "python3"
  },
  "language_info": {
   "codemirror_mode": {
    "name": "ipython",
    "version": 3
   },
   "file_extension": ".py",
   "mimetype": "text/x-python",
   "name": "python",
   "nbconvert_exporter": "python",
   "pygments_lexer": "ipython3",
   "version": "3.7.2"
  },
  "orig_nbformat": 4
 },
 "nbformat": 4,
 "nbformat_minor": 2
}
