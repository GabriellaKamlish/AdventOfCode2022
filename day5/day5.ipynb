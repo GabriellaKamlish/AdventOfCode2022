{
 "cells": [
  {
   "cell_type": "code",
   "execution_count": 4,
   "metadata": {},
   "outputs": [
    {
     "data": {
      "text/plain": [
       "['    [P]                 [Q]     [T]',\n",
       " '[F] [N]             [P] [L]     [M]',\n",
       " '[H] [T] [H]         [M] [H]     [Z]',\n",
       " '[M] [C] [P]     [Q] [R] [C]     [J]',\n",
       " '[T] [J] [M] [F] [L] [G] [R]     [Q]',\n",
       " '[V] [G] [D] [V] [G] [D] [N] [W] [L]',\n",
       " '[L] [Q] [S] [B] [H] [B] [M] [L] [D]',\n",
       " '[D] [H] [R] [L] [N] [W] [G] [C] [R]']"
      ]
     },
     "execution_count": 4,
     "metadata": {},
     "output_type": "execute_result"
    }
   ],
   "source": [
    "with open('day5.txt') as f:\n",
    "    lines = f.readlines()\n",
    "    split = lines.index('\\n')\n",
    "    cargo = [cargo[:-1] for cargo in lines[:split-1]]\n",
    "    moves = [move.strip() for move in lines[split+1:]]\n",
    "cargo"
   ]
  },
  {
   "cell_type": "code",
   "execution_count": 5,
   "metadata": {},
   "outputs": [
    {
     "data": {
      "text/plain": [
       "{1: [], 2: [], 3: [], 4: [], 5: [], 6: [], 7: [], 8: [], 9: []}"
      ]
     },
     "execution_count": 5,
     "metadata": {},
     "output_type": "execute_result"
    }
   ],
   "source": [
    "cargo_orientation = {}\n",
    "\n",
    "for num in range(1,10):\n",
    "    cargo_orientation[num] = []\n",
    "\n",
    "cargo_orientation"
   ]
  },
  {
   "cell_type": "code",
   "execution_count": 6,
   "metadata": {},
   "outputs": [
    {
     "data": {
      "text/plain": [
       "{1: ['D', 'L', 'V', 'T', 'M', 'H', 'F'],\n",
       " 2: ['H', 'Q', 'G', 'J', 'C', 'T', 'N', 'P'],\n",
       " 3: ['R', 'S', 'D', 'M', 'P', 'H'],\n",
       " 4: ['L', 'B', 'V', 'F'],\n",
       " 5: ['N', 'H', 'G', 'L', 'Q'],\n",
       " 6: ['W', 'B', 'D', 'G', 'R', 'M', 'P'],\n",
       " 7: ['G', 'M', 'N', 'R', 'C', 'H', 'L', 'Q'],\n",
       " 8: ['C', 'L', 'W'],\n",
       " 9: ['R', 'D', 'L', 'Q', 'J', 'Z', 'M', 'T']}"
      ]
     },
     "execution_count": 6,
     "metadata": {},
     "output_type": "execute_result"
    }
   ],
   "source": [
    "import re\n",
    "\n",
    "for row in reversed(cargo):\n",
    "    count = 1\n",
    "    spaces = 0\n",
    "    for entry in row.split(' '):\n",
    "        if entry != '':\n",
    "            value = re.sub(r\"[\\[\\]]\", \"\", entry)\n",
    "            current = cargo_orientation.get(count)\n",
    "            current.append(value)\n",
    "            cargo_orientation[count] = current\n",
    "            count += 1\n",
    "        else:\n",
    "            spaces += 1\n",
    "            if spaces == 4:\n",
    "                count += 1\n",
    "                spaces = 0\n",
    "cargo_orientation"
   ]
  },
  {
   "cell_type": "code",
   "execution_count": 7,
   "metadata": {},
   "outputs": [],
   "source": [
    "moves = [move.split() for move in moves]\n",
    "for move in moves:\n",
    "    for value in move:\n",
    "        try:\n",
    "            int(value)\n",
    "        except:\n",
    "            move.remove(value)"
   ]
  },
  {
   "cell_type": "code",
   "execution_count": 9,
   "metadata": {},
   "outputs": [
    {
     "data": {
      "text/plain": [
       "{1: ['C', 'M', 'N', 'H'],\n",
       " 2: ['J', 'N'],\n",
       " 3: ['S'],\n",
       " 4: ['L', 'L', 'V', 'N'],\n",
       " 5: ['C', 'L', 'D', 'M'],\n",
       " 6: ['M',\n",
       "  'R',\n",
       "  'B',\n",
       "  'V',\n",
       "  'F',\n",
       "  'Q',\n",
       "  'W',\n",
       "  'T',\n",
       "  'Q',\n",
       "  'J',\n",
       "  'P',\n",
       "  'L',\n",
       "  'W',\n",
       "  'H',\n",
       "  'B',\n",
       "  'R',\n",
       "  'T',\n",
       "  'G',\n",
       "  'M',\n",
       "  'H',\n",
       "  'D',\n",
       "  'T'],\n",
       " 7: ['D', 'G', 'Q', 'F', 'R', 'Z', 'G', 'D', 'P', 'G', 'H', 'P', 'L', 'L'],\n",
       " 8: ['M', 'C', 'H'],\n",
       " 9: ['R', 'Q']}"
      ]
     },
     "execution_count": 9,
     "metadata": {},
     "output_type": "execute_result"
    }
   ],
   "source": [
    "# Part 1\n",
    "\n",
    "moves_1 = moves\n",
    "cargo_1 = cargo_orientation\n",
    "\n",
    "for move in moves_1:\n",
    "    for num in range(int(move[0])):\n",
    "        x = cargo_1[int(move[1])].pop()\n",
    "        current = cargo_1[int(move[2])]\n",
    "        current.append(x)\n",
    "        cargo_1[int(move[2])] = current\n",
    "        \n",
    "cargo_1"
   ]
  },
  {
   "cell_type": "code",
   "execution_count": 10,
   "metadata": {},
   "outputs": [
    {
     "data": {
      "text/plain": [
       "{1: ['D', 'C', 'G', 'Q', 'H', 'L'],\n",
       " 2: ['D', 'D'],\n",
       " 3: ['L'],\n",
       " 4: ['W', 'B', 'H', 'R'],\n",
       " 5: ['C', 'Z', 'P', 'M', 'L'],\n",
       " 6: ['M',\n",
       "  'R',\n",
       "  'B',\n",
       "  'V',\n",
       "  'F',\n",
       "  'Q',\n",
       "  'W',\n",
       "  'T',\n",
       "  'Q',\n",
       "  'J',\n",
       "  'P',\n",
       "  'L',\n",
       "  'M',\n",
       "  'N',\n",
       "  'M',\n",
       "  'L',\n",
       "  'S',\n",
       "  'N',\n",
       "  'D',\n",
       "  'H',\n",
       "  'H',\n",
       "  'C',\n",
       "  'G',\n",
       "  'L',\n",
       "  'L',\n",
       "  'L',\n",
       "  'H',\n",
       "  'D',\n",
       "  'T',\n",
       "  'N',\n",
       "  'D',\n",
       "  'H',\n",
       "  'J',\n",
       "  'L'],\n",
       " 7: ['L', 'D', 'P', 'V', 'D', 'S', 'Q', 'D', 'R', 'C', 'T', 'G', 'F', 'M'],\n",
       " 8: ['M',\n",
       "  'C',\n",
       "  'R',\n",
       "  'T',\n",
       "  'G',\n",
       "  'M',\n",
       "  'S',\n",
       "  'H',\n",
       "  'B',\n",
       "  'L',\n",
       "  'J',\n",
       "  'N',\n",
       "  'C',\n",
       "  'S',\n",
       "  'T'],\n",
       " 9: ['H', 'G', 'R']}"
      ]
     },
     "execution_count": 10,
     "metadata": {},
     "output_type": "execute_result"
    }
   ],
   "source": [
    "# Part 2\n",
    "\n",
    "moves_2 = moves\n",
    "cargo_2 = cargo_orientation\n",
    "\n",
    "for move in moves_2:\n",
    "    from_x = cargo_2[int(move[1])]\n",
    "    num_boxes = int(move[0])\n",
    "    stack = from_x[-num_boxes:]\n",
    "    to_x = cargo_2[int(move[2])]\n",
    "    [to_x.append(val) for val in stack]\n",
    "    cargo_2[int(move[1])] = from_x[:len(from_x)-num_boxes]\n",
    "    cargo_2[int(move[2])] = to_x\n",
    "        \n",
    "cargo_2"
   ]
  }
 ],
 "metadata": {
  "kernelspec": {
   "display_name": "my_env",
   "language": "python",
   "name": "my_env"
  },
  "language_info": {
   "codemirror_mode": {
    "name": "ipython",
    "version": 3
   },
   "file_extension": ".py",
   "mimetype": "text/x-python",
   "name": "python",
   "nbconvert_exporter": "python",
   "pygments_lexer": "ipython3",
   "version": "3.7.3"
  }
 },
 "nbformat": 4,
 "nbformat_minor": 4
}
