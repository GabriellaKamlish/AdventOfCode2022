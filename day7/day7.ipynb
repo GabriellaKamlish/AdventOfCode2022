{
 "cells": [
  {
   "cell_type": "code",
   "execution_count": 1,
   "metadata": {},
   "outputs": [
    {
     "data": {
      "text/plain": [
       "1325919"
      ]
     },
     "execution_count": 1,
     "metadata": {},
     "output_type": "execute_result"
    }
   ],
   "source": [
    "\n",
    "import re\n",
    "\n",
    "data = open(\"day7.txt\").read().split(\"\\n\")\n",
    "\n",
    "folders = dict()\n",
    "current_dir = [\"\"]\n",
    "\n",
    "for row in data:\n",
    "    if row.startswith('$'):\n",
    "        if row == '$ cd ..':\n",
    "            current_dir.pop()\n",
    "        elif row.startswith('$ cd '):\n",
    "            current_dir.append(row[5:])\n",
    "    else:\n",
    "        if not row.startswith('dir '):\n",
    "            size = int(row.split(' ')[0])\n",
    "            path = \"\"\n",
    "            for dir in current_dir:\n",
    "                path += \"/\" + dir\n",
    "                if not path in folders:\n",
    "                    folders[path] = 0\n",
    "                folders[path] += size\n",
    "\n",
    "sum([s for f, s in folders.items() if s <= 100_000])\n",
    "\n"
   ]
  },
  {
   "cell_type": "code",
   "execution_count": 2,
   "metadata": {},
   "outputs": [
    {
     "data": {
      "text/plain": [
       "2050735"
      ]
     },
     "execution_count": 2,
     "metadata": {},
     "output_type": "execute_result"
    }
   ],
   "source": [
    "min_free_up_space = folders[\"/\"] - 70000000 + 30000000\n",
    "\n",
    "min([s for f, s in folders.items() if s > min_free_up_space])\n",
    "\n"
   ]
  },
  {
   "cell_type": "code",
   "execution_count": null,
   "metadata": {},
   "outputs": [],
   "source": []
  }
 ],
 "metadata": {
  "kernelspec": {
   "display_name": "my_env",
   "language": "python",
   "name": "my_env"
  },
  "language_info": {
   "codemirror_mode": {
    "name": "ipython",
    "version": 3
   },
   "file_extension": ".py",
   "mimetype": "text/x-python",
   "name": "python",
   "nbconvert_exporter": "python",
   "pygments_lexer": "ipython3",
   "version": "3.7.3"
  }
 },
 "nbformat": 4,
 "nbformat_minor": 4
}
