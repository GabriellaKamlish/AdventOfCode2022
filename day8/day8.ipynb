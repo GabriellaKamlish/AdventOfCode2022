{
 "cells": [
  {
   "cell_type": "code",
   "execution_count": 11,
   "metadata": {},
   "outputs": [
    {
     "data": {
      "text/plain": [
       "1684"
      ]
     },
     "execution_count": 11,
     "metadata": {},
     "output_type": "execute_result"
    }
   ],
   "source": [
    "import pandas as pd\n",
    "\n",
    "\n",
    "grid = open(\"day8\").read().split(\"\\n\")\n",
    "\n",
    "grid = pd.DataFrame([[int(t) for t in l] for l in grid])\n",
    "\n",
    "visible_from_top = grid.gt(grid.expanding().max().shift(1).fillna(-1))\n",
    "visible_from_left = grid.T.gt(grid.T.expanding().max().shift(1).fillna(-1)).T\n",
    "visible_from_bottom = grid.iloc[::-1, :].gt(grid.iloc[::-1, :].expanding().max().shift(1).fillna(-1)).iloc[::-1, :]\n",
    "visible_from_right = grid.T.iloc[::-1, :].gt(grid.T.iloc[::-1, :].expanding().max().shift(1).fillna(-1)).iloc[::-1, :].T\n",
    "\n",
    "(visible_from_top | visible_from_left | visible_from_bottom | visible_from_right).sum().sum()\n",
    "\n",
    "\n",
    "     "
   ]
  },
  {
   "cell_type": "code",
   "execution_count": 12,
   "metadata": {},
   "outputs": [
    {
     "data": {
      "text/plain": [
       "486540"
      ]
     },
     "execution_count": 12,
     "metadata": {},
     "output_type": "execute_result"
    }
   ],
   "source": [
    "\n",
    "import numpy as np\n",
    "\n",
    "score = grid.copy()\n",
    "for y in grid.index:\n",
    "    for x in grid.columns:\n",
    "        score.iloc[y, x] = np.prod([line_of_sight.expanding().max().lt(grid.iloc[y, x]).sum() + \\\n",
    "                                    int(line_of_sight.max() >= grid.iloc[y, x]) for line_of_sight in \\\n",
    "                                    [grid.iloc[:y, x].iloc[::-1], grid.iloc[y+1:, x], grid.iloc[y, :x].iloc[::-1], grid.iloc[y, x+1:]]])\n",
    "\n",
    "score.max().max()\n"
   ]
  }
 ],
 "metadata": {
  "kernelspec": {
   "display_name": "my_env",
   "language": "python",
   "name": "my_env"
  },
  "language_info": {
   "codemirror_mode": {
    "name": "ipython",
    "version": 3
   },
   "file_extension": ".py",
   "mimetype": "text/x-python",
   "name": "python",
   "nbconvert_exporter": "python",
   "pygments_lexer": "ipython3",
   "version": "3.7.3"
  }
 },
 "nbformat": 4,
 "nbformat_minor": 4
}
