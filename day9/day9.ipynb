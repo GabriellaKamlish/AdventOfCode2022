{
 "cells": [
  {
   "cell_type": "code",
   "execution_count": 2,
   "metadata": {},
   "outputs": [
    {
     "name": "stdout",
     "output_type": "stream",
     "text": [
      "5619\n"
     ]
    }
   ],
   "source": [
    "import numpy as np\n",
    "\n",
    "input = open(\"day9\").read().split(\"\\n\")\n",
    "\n",
    "moves = {'U': (0, 1), 'D': (0, -1), 'L': (-1, 0), 'R': (1, 0)}\n",
    "head_x, head_y = 0, 0\n",
    "tail_x, tail_y = 0, 0\n",
    "visited = {(0, 0)}\n",
    "\n",
    "for line in input:\n",
    "    direction, steps = line.split()\n",
    "    steps = int(steps)\n",
    "\n",
    "    for _ in range(steps):\n",
    "        head_x, head_y = head_x + moves[direction][0], head_y + moves[direction][1]\n",
    "        dist_x, dist_y = head_x - tail_x, head_y - tail_y\n",
    "\n",
    "        if (abs(dist_x) >= 2) or (abs(dist_y) >= 2):\n",
    "            tail_x, tail_y = tail_x + np.sign(dist_x), tail_y + np.sign(dist_y)\n",
    "\n",
    "        visited |= {(tail_x, tail_y)}\n",
    "\n",
    "print(len(visited))\n"
   ]
  },
  {
   "cell_type": "code",
   "execution_count": 3,
   "metadata": {},
   "outputs": [
    {
     "name": "stdout",
     "output_type": "stream",
     "text": [
      "2376\n"
     ]
    }
   ],
   "source": [
    "rope  = [(0, 0)] * 10\n",
    "head_x, head_y = 0, 0\n",
    "tail_x, tail_y = 0, 0\n",
    "visited = {(0, 0)}\n",
    "\n",
    "for line in input:\n",
    "    direction, steps = line.split()\n",
    "    steps = int(steps)\n",
    "\n",
    "    for _ in range(steps):\n",
    "        head_x, head_y = rope[0]\n",
    "        rope[0] = head_x + moves[direction][0], head_y + moves[direction][1]\n",
    "\n",
    "        for i in range(len(rope) - 1):\n",
    "            head_x, head_y = rope[i]\n",
    "            tail_x, tail_y = rope[i + 1]\n",
    "            dist_x, dist_y = head_x - tail_x, head_y - tail_y\n",
    "\n",
    "            if (abs(dist_x) >= 2) or (abs(dist_y) >= 2):\n",
    "                rope[i + 1] = tail_x + np.sign(dist_x), tail_y + np.sign(dist_y)\n",
    "\n",
    "        visited |= {rope[-1]}\n",
    "\n",
    "print(len(visited))\n"
   ]
  }
 ],
 "metadata": {
  "kernelspec": {
   "display_name": "my_env",
   "language": "python",
   "name": "my_env"
  },
  "language_info": {
   "codemirror_mode": {
    "name": "ipython",
    "version": 3
   },
   "file_extension": ".py",
   "mimetype": "text/x-python",
   "name": "python",
   "nbconvert_exporter": "python",
   "pygments_lexer": "ipython3",
   "version": "3.7.3"
  }
 },
 "nbformat": 4,
 "nbformat_minor": 4
}
